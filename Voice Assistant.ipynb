{
 "cells": [
  {
   "cell_type": "code",
   "execution_count": 3,
   "id": "e5d7bae4",
   "metadata": {},
   "outputs": [],
   "source": [
    "import pyttsx3\n",
    "import speech_recognition as sr\n",
    "import webbrowser\n",
    "import datetime\n",
    "import pyjokes\n",
    "import os\n",
    "import time"
   ]
  },
  {
   "cell_type": "code",
   "execution_count": 4,
   "id": "b95f9282",
   "metadata": {},
   "outputs": [
    {
     "name": "stdout",
     "output_type": "stream",
     "text": [
      "Hello!\n",
      "Recognizing...\n",
      "namaste aalekh\n",
      "Hello!\n",
      "Recognizing...\n",
      "news\n",
      "Hello!\n",
      "Recognizing...\n",
      "exit\n"
     ]
    }
   ],
   "source": [
    "#For Speech Recoginition(speech to text)\n",
    "def sptext():\n",
    "    recognizer=sr.Recognizer()#Recognizer is a class in speech_recognition module\n",
    "    with sr.Microphone() as source:#Laptop's microphone\n",
    "        print(\"Hello!\")\n",
    "        recognizer.adjust_for_ambient_noise(source) #for noise cancellation\n",
    "        audio = recognizer.listen(source)\n",
    "        #for error handling we'll use exception handling...\n",
    "        try:\n",
    "            print(\"Recognizing...\")\n",
    "            data= recognizer.recognize_google(audio)\n",
    "            print(data)\n",
    "            return(data)\n",
    "        except sr.UnknownValueError:\n",
    "            print(\"Sorry,I am not able to recognize this...Please Try again\")\n",
    "            \n",
    "#Text to Speech:\n",
    "def speechtx(x):\n",
    "    engine = pyttsx3.init()#init is a class in pyttsx3\n",
    "    voices = engine.getProperty('voices')#for vpoices of male and female\n",
    "    engine.setProperty('voice',voices[1].id)#for male voice(for female [1])\n",
    "    rate = engine.getProperty('rate')#for speed\n",
    "    engine.setProperty('rate',130)\n",
    "    engine.say(x)#for saying the text\n",
    "    engine.runAndWait()\n",
    "\n",
    "if __name__=='__main__':\n",
    "    \n",
    "    if \"namaste aalekh\" in sptext().lower():#voice assistant's name is Aalekh(like we have alexa)\n",
    "            while True:\n",
    "                    data1=sptext().lower()\n",
    "                    if \"your name\" in data1:\n",
    "                        name= \"My name is Aalekh\"\n",
    "                        speechtx(name)\n",
    "                    elif \"old are you\" in data1:\n",
    "                        age= \"I am 21 years old\"\n",
    "                        speechtx(age)\n",
    "                    elif \"the time\" in data1:\n",
    "                        time= datetime.datetime.now().strftime(\"%I%M%p\")#%I for hours,%M for minutes, %p for AM-PM\n",
    "                        speechtx(time)\n",
    "                    elif \"youtube\"in data1:\n",
    "                        opening=webbrowser.open(\"https://www.youtube.com/\")\n",
    "                        speechtx(\"Opening Youtube...\")\n",
    "                    elif \"news\" in data1:\n",
    "                        news=webbrowser.open(\"https://timesofindia.indiatimes.com/\")\n",
    "                        speechtx(\"Here's the Times of India's website for reading news\")\n",
    "                    elif \"joke\" in data1:\n",
    "                        joke=pyjokes.get_joke(language=\"en\",category=\"neutral\")\n",
    "                        speechtx(joke)\n",
    "        #This elif block is for playing a song from our computer but i don't have any song in my laptop so commented this part... :)\n",
    "        #        elif 'play song' in data1: \n",
    "        #             add=\"location of song\"\n",
    "        #             listsong=os.listdir(add)\n",
    "        #             print(list)\n",
    "        #             os.startfile(os.path.jpin(add,listsong[0]))\n",
    "                    elif \"exit\" in data1:\n",
    "                        speechtx(\"Thank You...Come Back Soon!!!\")\n",
    "                        break\n",
    "                    time.sleep(7) #for delaying (by this program will be get restarted in every 5 seconds till you say exit)\n",
    "    else:\n",
    "        speechtx(\"Sorry can't help you :(\")\n",
    "    "
   ]
  },
  {
   "cell_type": "code",
   "execution_count": null,
   "id": "14162c49",
   "metadata": {},
   "outputs": [],
   "source": []
  },
  {
   "cell_type": "code",
   "execution_count": null,
   "id": "e68c90a3",
   "metadata": {},
   "outputs": [],
   "source": []
  }
 ],
 "metadata": {
  "kernelspec": {
   "display_name": "Python 3 (ipykernel)",
   "language": "python",
   "name": "python3"
  },
  "language_info": {
   "codemirror_mode": {
    "name": "ipython",
    "version": 3
   },
   "file_extension": ".py",
   "mimetype": "text/x-python",
   "name": "python",
   "nbconvert_exporter": "python",
   "pygments_lexer": "ipython3",
   "version": "3.11.5"
  }
 },
 "nbformat": 4,
 "nbformat_minor": 5
}
