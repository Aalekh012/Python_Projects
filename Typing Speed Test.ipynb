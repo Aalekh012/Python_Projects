{
 "cells": [
  {
   "cell_type": "code",
   "execution_count": 1,
   "id": "6250a968",
   "metadata": {},
   "outputs": [],
   "source": [
    "from time import *\n",
    "import random as r"
   ]
  },
  {
   "cell_type": "code",
   "execution_count": 2,
   "id": "bf411995",
   "metadata": {},
   "outputs": [
    {
     "name": "stdout",
     "output_type": "stream",
     "text": [
      "Ready to test: Yes or No: Yes\n",
      "                                    ========== Typing Speed Test ==========                                    \n",
      "Harry Potter is a series of seven fantasy novels written by British author J. K. Rowling.\n",
      "\n",
      "Enter the above paragraph to test your typing speed: Harry potter is a series of seven fantany novels written by British authod JK Rowling\n",
      "Speed:  2  letters/second \n",
      "Error:  15\n",
      "Ready to test: Yes or No: Yes\n",
      "                                    ========== Typing Speed Test ==========                                    \n",
      "Harry Potter is a series of seven fantasy novels written by British author J. K. Rowling.\n",
      "\n",
      "Enter the above paragraph to test your typing speed: Harry Potter is a series of seven fantasy novels written by British author J. K. Rowling.\n",
      "Speed:  9  letters/second \n",
      "Error:  0\n",
      "Ready to test: Yes or No: Yes\n",
      "                                    ========== Typing Speed Test ==========                                    \n",
      "The main story arc concerns Harry's conflict with Lord Voldemort, a dark wizard who intends to become immortal, overthrow the wizard governing body known as the Ministry of Magic, and subjugate all wizards and Muggles (non-magical people).\n",
      "\n",
      "Enter the above paragraph to test your typing speed: The main...\n",
      "Speed:  2  letters/second \n",
      "Error:  231\n",
      "Ready to test: Yes or No: no\n",
      "Bye...\n",
      "Ready to test: Yes or No: No\n",
      "Thank You...\n"
     ]
    }
   ],
   "source": [
    "def mistake(paratest,usertest):#for calculating the mistakes\n",
    "    error=0\n",
    "    for i in range(len(paratest)):\n",
    "        try:\n",
    "            if (paratest[i] != usertest[i]):\n",
    "                error=error+1\n",
    "        except:\n",
    "            error=error+1\n",
    "    return error\n",
    "\n",
    "def speed_time(time_start,time_end,userinput):\n",
    "    time_delay= time_end-time_start\n",
    "    time_roundoff=round(time_delay,2)\n",
    "    speed=len(userinput)/time_roundoff\n",
    "    return round(speed)\n",
    "\n",
    "if __name__=='__main__':\n",
    "    while True: #because of while loop we can make this program to run for infinite times\n",
    "        ck=input(\"Ready to test: Yes or No: \")\n",
    "        if ck==\"Yes\":\n",
    "            test=[\"Harry Potter is a series of seven fantasy novels written by British author J. K. Rowling.\", \n",
    "                  \"The novels chronicle the lives of a young wizard, Harry Potter, and his friends Hermione Granger and Ron Weasley, all of whom are students at Hogwarts School of Witchcraft and Wizardry.\",\n",
    "                  \"The main story arc concerns Harry's conflict with Lord Voldemort, a dark wizard who intends to become immortal, overthrow the wizard governing body known as the Ministry of Magic, and subjugate all wizards and Muggles (non-magical people).\"]\n",
    "            test1=r.choice(test)\n",
    "            print(\"                                    ========== Typing Speed Test ==========                                    \")\n",
    "            print(test1)\n",
    "            print()\n",
    "            time_1=time()\n",
    "            testinput=input(\"Enter the above paragraph to test your typing speed: \")\n",
    "            time_2=time()\n",
    "            print(\"Speed: \",speed_time(time_1,time_2,testinput),\" letters/second \")\n",
    "            print(\"Error: \",mistake(test1,testinput))\n",
    "        elif ck==\"No\":\n",
    "            print(\"Thank You...\")\n",
    "            break\n",
    "        else:\n",
    "            print(\"Bye...\")\n"
   ]
  },
  {
   "cell_type": "code",
   "execution_count": null,
   "id": "7b8e50f8",
   "metadata": {},
   "outputs": [],
   "source": []
  }
 ],
 "metadata": {
  "kernelspec": {
   "display_name": "Python 3 (ipykernel)",
   "language": "python",
   "name": "python3"
  },
  "language_info": {
   "codemirror_mode": {
    "name": "ipython",
    "version": 3
   },
   "file_extension": ".py",
   "mimetype": "text/x-python",
   "name": "python",
   "nbconvert_exporter": "python",
   "pygments_lexer": "ipython3",
   "version": "3.11.5"
  }
 },
 "nbformat": 4,
 "nbformat_minor": 5
}
