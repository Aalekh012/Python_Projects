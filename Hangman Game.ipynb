{
 "cells": [
  {
   "cell_type": "code",
   "execution_count": 1,
   "id": "9c238dee",
   "metadata": {},
   "outputs": [],
   "source": [
    "import random"
   ]
  },
  {
   "cell_type": "code",
   "execution_count": null,
   "id": "0e1f413e",
   "metadata": {},
   "outputs": [
    {
     "name": "stdout",
     "output_type": "stream",
     "text": [
      "________\n"
     ]
    }
   ],
   "source": [
    "words=[\"UMBRELLA\",\"COMPUTER\",\"TELESCOPE\",\"SMARTPHONE\"]\n",
    "word=random.choice(words)\n",
    "total_chances=7\n",
    "guessed_word=\"_\"*len(word)\n",
    "while total_chances!=0:\n",
    "    print(guessed_word)\n",
    "\n",
    "    letter=input(\"Guess a letter: \").upper()\n",
    "    if letter in word:\n",
    "        for index in range(len(word)):\n",
    "            if word[index]==letter:\n",
    "                guessed_word=guessed_word[:index]+letter+guessed_word[index+1:]\n",
    "                print(guessed_word)\n",
    "        if guessed_word==word:\n",
    "            print(\"Congratulations you won!!!\")\n",
    "            break\n",
    "    else:\n",
    "        total_chances-=1\n",
    "        print(\"Incorrect guess\")\n",
    "        print(\"The remainig chances are: \",total_chances)\n",
    "else:\n",
    "    print(\"Game Over\")\n",
    "    print(\"The correct word is: \", word)\n"
   ]
  },
  {
   "cell_type": "code",
   "execution_count": null,
   "id": "bcdb5e2c",
   "metadata": {},
   "outputs": [],
   "source": []
  }
 ],
 "metadata": {
  "kernelspec": {
   "display_name": "Python 3 (ipykernel)",
   "language": "python",
   "name": "python3"
  },
  "language_info": {
   "codemirror_mode": {
    "name": "ipython",
    "version": 3
   },
   "file_extension": ".py",
   "mimetype": "text/x-python",
   "name": "python",
   "nbconvert_exporter": "python",
   "pygments_lexer": "ipython3",
   "version": "3.11.5"
  }
 },
 "nbformat": 4,
 "nbformat_minor": 5
}
