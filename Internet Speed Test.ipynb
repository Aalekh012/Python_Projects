{
 "cells": [
  {
   "cell_type": "code",
   "execution_count": 5,
   "id": "231d5622",
   "metadata": {},
   "outputs": [],
   "source": [
    "from tkinter import *\n",
    "import speedtest"
   ]
  },
  {
   "cell_type": "code",
   "execution_count": 6,
   "id": "c5d5eb77",
   "metadata": {},
   "outputs": [],
   "source": [
    "def speedcheck():\n",
    "    sp=speedtest.Speedtest()\n",
    "    sp.get_servers()\n",
    "    download=str(round(sp.download()/(10**6),3))+\"Mbps\"\n",
    "    upload=str(round(sp.upload()/(10**6),3))+\"Mbps\"\n",
    "    label_down.config(text=download)\n",
    "    label_up.config(text=upload)\n",
    "\n",
    "sp=Tk()\n",
    "sp.title(\"  Internet Speed Test  \")\n",
    "sp.geometry(\"500x600\")\n",
    "sp.config(bg=\"green\")\n",
    "\n",
    "label=Label(sp,text=\"Internet Speed Test\",font=(\"Verdana\",25,\"bold\"),bg=\"green\",fg=\"red\")\n",
    "label.place(x=60,y=40,height=50,width=380)\n",
    "\n",
    "label=Label(sp,text=\"Download Speed\",font=(\"Verdana\",25,\"bold\"))\n",
    "label.place(x=60,y=130,height=50,width=380)\n",
    "\n",
    "label_down=Label(sp,text=\"00\",font=(\"Verdana\",25,\"bold\"))\n",
    "label_down.place(x=60,y=200,height=50,width=380)\n",
    "\n",
    "label=Label(sp,text=\"Upload Speed\",font=(\"Verdana\",25,\"bold\"))\n",
    "label.place(x=60,y=290,height=50,width=380)\n",
    "\n",
    "label_up=Label(sp,text=\"00\",font=(\"Verdana\",25,\"bold\"))\n",
    "label_up.place(x=60,y=360,height=50,width=380)\n",
    "\n",
    "button=Button(sp,text=\"Test\",font=(\"Verdana\",25,\"bold\"),bg=\"yellow\",fg=\"red\",relief=RAISED,command=speedcheck)\n",
    "button.place(x=60,y=450,height=50,width=380)\n",
    "\n",
    "sp.mainloop()"
   ]
  }
 ],
 "metadata": {
  "kernelspec": {
   "display_name": "Python 3 (ipykernel)",
   "language": "python",
   "name": "python3"
  },
  "language_info": {
   "codemirror_mode": {
    "name": "ipython",
    "version": 3
   },
   "file_extension": ".py",
   "mimetype": "text/x-python",
   "name": "python",
   "nbconvert_exporter": "python",
   "pygments_lexer": "ipython3",
   "version": "3.11.5"
  }
 },
 "nbformat": 4,
 "nbformat_minor": 5
}
