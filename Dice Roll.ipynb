{
 "cells": [
  {
   "cell_type": "code",
   "execution_count": 1,
   "id": "0bd39d25",
   "metadata": {},
   "outputs": [],
   "source": [
    "import tkinter as tk\n",
    "from PIL import Image,ImageTk\n",
    "import random"
   ]
  },
  {
   "cell_type": "code",
   "execution_count": 17,
   "id": "3d809a3f",
   "metadata": {},
   "outputs": [],
   "source": [
    "window=tk.Tk()\n",
    "window.geometry(\"500x360\")\n",
    "window.title(\"Dice Roll\")\n",
    "\n",
    "dice=[\"dice 1.jpg\",\"dice 2.jpg\",\"dice3.png\",\"dice 4.png\",\"dice 5.jpg\",\"dice6.jpg\" ]\n",
    "image1=ImageTk.PhotoImage(Image.open(random.choice(dice)))\n",
    "image2=ImageTk.PhotoImage(Image.open(random.choice(dice)))\n",
    "\n",
    "label1=tk.Label(window,image=image1)\n",
    "label2=tk.Label(window,image=image2)\n",
    "\n",
    "label1.image=image1\n",
    "label2.image=image2\n",
    "\n",
    "label1.place(x=40,y=100)\n",
    "label2.place(x=250,y=100)\n",
    "\n",
    "def dice_roll():\n",
    "        image1=ImageTk.PhotoImage(Image.open(random.choice(dice)))\n",
    "        label1.configure(image=image1)\n",
    "        label1.image=image1\n",
    "        \n",
    "        image2=ImageTk.PhotoImage(Image.open(random.choice(dice)))\n",
    "        label2.configure(image=image2)\n",
    "        label2.image=image2\n",
    "\n",
    "button=tk.Button(window,text=\"ROLL\",bg=\"black\",fg=\"white\",font=\"Times 20 bold\",command=dice_roll)\n",
    "button.place(x=230,y=0)\n",
    "\n",
    "window.mainloop()"
   ]
  }
 ],
 "metadata": {
  "kernelspec": {
   "display_name": "Python 3 (ipykernel)",
   "language": "python",
   "name": "python3"
  },
  "language_info": {
   "codemirror_mode": {
    "name": "ipython",
    "version": 3
   },
   "file_extension": ".py",
   "mimetype": "text/x-python",
   "name": "python",
   "nbconvert_exporter": "python",
   "pygments_lexer": "ipython3",
   "version": "3.11.5"
  }
 },
 "nbformat": 4,
 "nbformat_minor": 5
}
