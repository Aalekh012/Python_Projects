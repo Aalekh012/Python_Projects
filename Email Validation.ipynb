{
 "cells": [
  {
   "cell_type": "markdown",
   "id": "ff91c3b4",
   "metadata": {},
   "source": [
    "# Method 1: Using String"
   ]
  },
  {
   "cell_type": "code",
   "execution_count": 1,
   "id": "00f42abd",
   "metadata": {},
   "outputs": [
    {
     "name": "stdout",
     "output_type": "stream",
     "text": [
      "Enter Your Email Address: aalekh6goyal@gmail.com\n",
      "Valid email address\n"
     ]
    }
   ],
   "source": [
    "email=input(\"Enter Your Email Address: \")#g@g.in\n",
    "k,j,d=0,0,0\n",
    "if len(email)>=6:#condition 1\n",
    "    if email[0].isalpha():#condition 2\n",
    "        if (\"@\" in email) and (email.count(\"@\")==1):#condition 3\n",
    "            if(email[-4]==\".\")^ (email[-3]==\".\"):#condition 4\n",
    "                for i in email:\n",
    "                    if i==i.isspace():#condition 5\n",
    "                        k=1\n",
    "                    elif i.isalpha():#condition 5\n",
    "                        if i==i.upper():\n",
    "                            j=1\n",
    "                    elif i.isdigit():#condition 5\n",
    "                        continue\n",
    "                    elif i==\"_\" or i==\".\" or i==\"@\":#condition 5\n",
    "                        continue\n",
    "                    else:#condition 5\n",
    "                        d=1\n",
    "                if k==1 or j==1 or d==1:\n",
    "                    print(\"Invalid email address due to space or due to upper case character...\")\n",
    "                else:\n",
    "                    print(\"Valid email address\")\n",
    "            else:\n",
    "                print(\"Invalid email address due to wrong position of (.)...\")\n",
    "        else:\n",
    "            print(\"Invalid email address due more than one number of @s... \")\n",
    "    else:\n",
    "        print(\"Invalid email address because starting charater is not an alphabet...\")\n",
    "else:\n",
    "    print(\"Invalid email address due to less number of characters...\")\n"
   ]
  },
  {
   "cell_type": "markdown",
   "id": "effe2e8c",
   "metadata": {},
   "source": [
    "# Method 2: Using Regex"
   ]
  },
  {
   "cell_type": "code",
   "execution_count": 2,
   "id": "869331f6",
   "metadata": {},
   "outputs": [],
   "source": [
    "import re"
   ]
  },
  {
   "cell_type": "code",
   "execution_count": 4,
   "id": "ae72b1bc",
   "metadata": {},
   "outputs": [
    {
     "name": "stdout",
     "output_type": "stream",
     "text": [
      "Enter your email address: aalekh__goyal@gmail.com\n",
      "Invalid Email Address...\n"
     ]
    }
   ],
   "source": [
    "email_condition=\"^[a-z]+[\\._]?[a-z 0-9]+[@]\\w+[.]\\w{2,3}$\"\n",
    "user_email=input(\"Enter your email address: \")\n",
    "if re.search(email_condition,user_email):\n",
    "    print(\"Valid Email Address...\")\n",
    "else:\n",
    "    print(\"Invalid Email Address...\")"
   ]
  }
 ],
 "metadata": {
  "kernelspec": {
   "display_name": "Python 3 (ipykernel)",
   "language": "python",
   "name": "python3"
  },
  "language_info": {
   "codemirror_mode": {
    "name": "ipython",
    "version": 3
   },
   "file_extension": ".py",
   "mimetype": "text/x-python",
   "name": "python",
   "nbconvert_exporter": "python",
   "pygments_lexer": "ipython3",
   "version": "3.11.5"
  }
 },
 "nbformat": 4,
 "nbformat_minor": 5
}
