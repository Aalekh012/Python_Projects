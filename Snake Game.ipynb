{
 "cells": [
  {
   "cell_type": "code",
   "execution_count": 2,
   "id": "17814a83",
   "metadata": {},
   "outputs": [],
   "source": [
    "import pygame\n",
    "import time\n",
    "import random"
   ]
  },
  {
   "cell_type": "code",
   "execution_count": 5,
   "id": "4ec474da",
   "metadata": {},
   "outputs": [],
   "source": [
    "pygame.init()  #initialisation\n",
    "\n",
    "red=(255,0,0)\n",
    "blue=(51,153,255)\n",
    "grey=(192,192,192)\n",
    "green=(51,102,0)\n",
    "\n",
    "win_width=600\n",
    "win_height=400\n",
    "window=pygame.display.set_mode((win_width,win_height))\n",
    "pygame.display.set_caption(\"Snake Game\")\n",
    "time.sleep(2)\n",
    "snake=10\n",
    "snake_speed=15\n"
   ]
  },
  {
   "cell_type": "code",
   "execution_count": null,
   "id": "15c31876",
   "metadata": {},
   "outputs": [],
   "source": []
  }
 ],
 "metadata": {
  "kernelspec": {
   "display_name": "Python 3 (ipykernel)",
   "language": "python",
   "name": "python3"
  },
  "language_info": {
   "codemirror_mode": {
    "name": "ipython",
    "version": 3
   },
   "file_extension": ".py",
   "mimetype": "text/x-python",
   "name": "python",
   "nbconvert_exporter": "python",
   "pygments_lexer": "ipython3",
   "version": "3.11.5"
  }
 },
 "nbformat": 4,
 "nbformat_minor": 5
}
